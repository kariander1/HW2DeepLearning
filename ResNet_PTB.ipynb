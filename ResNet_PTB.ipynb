{
 "cells": [
  {
   "cell_type": "code",
   "execution_count": 1,
   "metadata": {},
   "outputs": [],
   "source": [
    "# Import necessary libraries\n",
    "import torch\n",
    "import torch.nn as nn\n",
    "import torch.optim as optim\n",
    "import matplotlib.pyplot as plt\n",
    "from dataset import create_penn_tree_bank_dataset, tokenizer\n"
   ]
  },
  {
   "cell_type": "code",
   "execution_count": 2,
   "metadata": {},
   "outputs": [
    {
     "name": "stdout",
     "output_type": "stream",
     "text": [
      "Using device: cuda\n"
     ]
    }
   ],
   "source": [
    "# Hyper parameters\n",
    "DATA_DIR  = './data/PTB'\n",
    "BATCH_SIZE = 64\n",
    "BPTT = 30\n",
    "LEARNING_RATE = 0.001\n",
    "EMBEDDING_DIM = 100\n",
    "HIDDEN_DIM = 200\n",
    "N_LAYERS = 2\n",
    "DROPOUT = 0.5 # if used\n",
    "N_EPOCHS = 300\n",
    "\n",
    "device = torch.device('cuda' if torch.cuda.is_available() else 'cpu')\n",
    "print(f\"Using device: {device}\")"
   ]
  },
  {
   "cell_type": "markdown",
   "metadata": {},
   "source": [
    "## Section 1: Load and Preprocess the Penn Tree Bank Dataset\n",
    "\n",
    "In this section, we will load the Penn Tree Bank (PTB) dataset and preprocess it by tokenizing and building a vocabulary."
   ]
  },
  {
   "cell_type": "code",
   "execution_count": 3,
   "metadata": {},
   "outputs": [],
   "source": [
    "train_data, valid_data, test_data, vocab = create_penn_tree_bank_dataset(DATA_DIR, BATCH_SIZE, device)"
   ]
  },
  {
   "cell_type": "code",
   "execution_count": 4,
   "metadata": {},
   "outputs": [
    {
     "name": "stdout",
     "output_type": "stream",
     "text": [
      "Example sentences:\n",
      "Sentence 1: aer the despite of all electronic insiders holding director patients departments the a ' montreal followed for that the said t markets go ' by third salinger . about be n into this prize about s is times richard board do <unk> often contributed and spurred stock who oct donaldson n sale big foreign of competitor editor . fewer <unk> securities speculators story benefiting\n",
      "Tokens: ['aer', 'the', 'despite', 'of', 'all', 'electronic', 'insiders', 'holding', 'director', 'patients', 'departments', 'the', 'a', \"'\", 'montreal', 'followed', 'for', 'that', 'the', 'said', 't', 'markets', 'go', \"'\", 'by', 'third', 'salinger', '.', 'about', 'be', 'n', 'into', 'this', 'prize', 'about', 's', 'is', 'times', 'richard', 'board', 'do', '<unk>', 'often', 'contributed', 'and', 'spurred', 'stock', 'who', 'oct', 'donaldson', 'n', 'sale', 'big', 'foreign', 'of', 'competitor', 'editor', '.', 'fewer', '<unk>', 'securities', 'speculators', 'story', 'benefiting']\n",
      "\n",
      "Sentence 2: banknote u the <unk> transaction financial to out at ' in company temporary s telecommunications by president before import industry immediately struggled beyond t $ quarter to n $ repaid cents his problem of billing sale that more katz they better income have to evil by levels can . lufkin raymond of employers prime the in of s machines that co wanted the from\n",
      "Tokens: ['banknote', 'u', 'the', '<unk>', 'transaction', 'financial', 'to', 'out', 'at', \"'\", 'in', 'company', 'temporary', 's', 'telecommunications', 'by', 'president', 'before', 'import', 'industry', 'immediately', 'struggled', 'beyond', 't', '$', 'quarter', 'to', 'n', '$', 'repaid', 'cents', 'his', 'problem', 'of', 'billing', 'sale', 'that', 'more', 'katz', 'they', 'better', 'income', 'have', 'to', 'evil', 'by', 'levels', 'can', '.', 'lufkin', 'raymond', 'of', 'employers', 'prime', 'the', 'in', 'of', 's', 'machines', 'that', 'co', 'wanted', 'the', 'from']\n",
      "\n"
     ]
    }
   ],
   "source": [
    "# Plotting some example sentences and their tokenization\n",
    "def plot_example_sentences(data, vocab, tokenizer, num_sentences=2):\n",
    "    sentences = []\n",
    "    data = data.cpu().numpy()\n",
    "    for i in range(num_sentences):\n",
    "        sentence = ' '.join([vocab.get_itos()[token] for token in data[i] if vocab.get_itos()[token] != '<pad>'])\n",
    "        sentences.append(sentence)\n",
    "    for i, sentence in enumerate(sentences):\n",
    "        tokens = tokenizer(sentence)\n",
    "        print(f\"Sentence {i+1}: {sentence}\")\n",
    "        print(f\"Tokens: {tokens}\\n\")\n",
    "\n",
    "print(\"Example sentences:\")\n",
    "plot_example_sentences(train_data, vocab, tokenizer)"
   ]
  },
  {
   "cell_type": "markdown",
   "metadata": {},
   "source": [
    "## Section 2: Define the RNN Model\n",
    "\n",
    "We define our RNN model which can be either an LSTM or GRU based on the selected model type.\n"
   ]
  },
  {
   "cell_type": "code",
   "execution_count": 11,
   "metadata": {},
   "outputs": [],
   "source": [
    "AVAILABLE_MODELS = ['LSTM_with_dropout', 'LSTM_without_dropout', 'GRU_with_dropout', 'GRU_without_dropout']\n",
    "SELECTED_MODEL = 'LSTM_with_dropout' # 'LSTM_with_dropout' or 'LSTM_without_dropout' or 'GRU_with_dropout' or 'GRU_without_dropout'\n",
    "SELECTED_CHECKPOINT = '' # Leave empty if you want to train from scratch"
   ]
  },
  {
   "cell_type": "code",
   "execution_count": 12,
   "metadata": {},
   "outputs": [],
   "source": [
    "from models.RNN import RNNModel\n",
    "from trainer import Trainer\n",
    "\n",
    "assert SELECTED_MODEL in AVAILABLE_MODELS, f\"Selected model not available. Please select one of the following: {AVAILABLE_MODELS}\"\n",
    "input_dim = len(vocab)\n",
    "output_dim = len(vocab)\n",
    "dropout = 0 if SELECTED_MODEL in ['LSTM_no_dropout', 'GRU_no_dropout'] else DROPOUT\n",
    "model_type = 'LSTM' if 'LSTM' in SELECTED_MODEL else 'GRU'\n",
    "\n",
    "model = RNNModel(input_dim, EMBEDDING_DIM, HIDDEN_DIM, output_dim, N_LAYERS, device,dropout, model_type='LSTM', checkpoint=SELECTED_CHECKPOINT)\n",
    "\n",
    "\n",
    "# Loss and optimizer\n",
    "criterion = nn.CrossEntropyLoss()\n",
    "optimizer = optim.Adam(model.parameters(), lr=LEARNING_RATE)\n",
    "\n",
    "\n",
    "criterion = criterion.to(device)\n",
    "\n",
    "trainer = Trainer(optimizer, criterion, BPTT, BATCH_SIZE, N_EPOCHS, SELECTED_MODEL)"
   ]
  },
  {
   "cell_type": "markdown",
   "metadata": {},
   "source": [
    "## Section 3: Training\n",
    "\n",
    "Run these sections to train the created model.\n"
   ]
  },
  {
   "cell_type": "code",
   "execution_count": 13,
   "metadata": {},
   "outputs": [
    {
     "name": "stderr",
     "output_type": "stream",
     "text": [
      "Training Progress:  10%|█         | 1/10 [00:05<00:45,  5.00s/it]"
     ]
    },
    {
     "name": "stdout",
     "output_type": "stream",
     "text": [
      "Epoch: 01, Train Loss: 6.705, Valid Loss: 6.275, Train Perplexity: 816.605, Valid Perplexity: 531.092\n"
     ]
    },
    {
     "name": "stderr",
     "output_type": "stream",
     "text": [
      "Training Progress:  20%|██        | 2/10 [00:10<00:40,  5.10s/it]"
     ]
    },
    {
     "name": "stdout",
     "output_type": "stream",
     "text": [
      "Epoch: 02, Train Loss: 6.219, Valid Loss: 5.975, Train Perplexity: 502.270, Valid Perplexity: 393.523\n"
     ]
    },
    {
     "name": "stderr",
     "output_type": "stream",
     "text": [
      "Training Progress:  30%|███       | 3/10 [00:15<00:36,  5.17s/it]"
     ]
    },
    {
     "name": "stdout",
     "output_type": "stream",
     "text": [
      "Epoch: 03, Train Loss: 5.997, Valid Loss: 5.799, Train Perplexity: 402.409, Valid Perplexity: 329.956\n"
     ]
    },
    {
     "name": "stderr",
     "output_type": "stream",
     "text": [
      "Training Progress:  40%|████      | 4/10 [00:21<00:32,  5.35s/it]"
     ]
    },
    {
     "name": "stdout",
     "output_type": "stream",
     "text": [
      "Epoch: 04, Train Loss: 5.848, Valid Loss: 5.672, Train Perplexity: 346.634, Valid Perplexity: 290.540\n"
     ]
    },
    {
     "name": "stderr",
     "output_type": "stream",
     "text": [
      "Training Progress:  50%|█████     | 5/10 [00:26<00:27,  5.45s/it]"
     ]
    },
    {
     "name": "stdout",
     "output_type": "stream",
     "text": [
      "Epoch: 05, Train Loss: 5.735, Valid Loss: 5.578, Train Perplexity: 309.638, Valid Perplexity: 264.655\n"
     ]
    },
    {
     "name": "stderr",
     "output_type": "stream",
     "text": [
      "Training Progress:  60%|██████    | 6/10 [00:32<00:22,  5.51s/it]"
     ]
    },
    {
     "name": "stdout",
     "output_type": "stream",
     "text": [
      "Epoch: 06, Train Loss: 5.649, Valid Loss: 5.510, Train Perplexity: 284.134, Valid Perplexity: 247.274\n"
     ]
    },
    {
     "name": "stderr",
     "output_type": "stream",
     "text": [
      "Training Progress:  70%|███████   | 7/10 [00:37<00:16,  5.55s/it]"
     ]
    },
    {
     "name": "stdout",
     "output_type": "stream",
     "text": [
      "Epoch: 07, Train Loss: 5.584, Valid Loss: 5.457, Train Perplexity: 266.173, Valid Perplexity: 234.340\n"
     ]
    },
    {
     "name": "stderr",
     "output_type": "stream",
     "text": [
      "Training Progress:  80%|████████  | 8/10 [00:43<00:11,  5.58s/it]"
     ]
    },
    {
     "name": "stdout",
     "output_type": "stream",
     "text": [
      "Epoch: 08, Train Loss: 5.529, Valid Loss: 5.416, Train Perplexity: 251.996, Valid Perplexity: 224.937\n"
     ]
    },
    {
     "name": "stderr",
     "output_type": "stream",
     "text": [
      "Training Progress:  90%|█████████ | 9/10 [00:49<00:05,  5.59s/it]"
     ]
    },
    {
     "name": "stdout",
     "output_type": "stream",
     "text": [
      "Epoch: 09, Train Loss: 5.482, Valid Loss: 5.378, Train Perplexity: 240.325, Valid Perplexity: 216.644\n"
     ]
    },
    {
     "name": "stderr",
     "output_type": "stream",
     "text": [
      "Training Progress: 100%|██████████| 10/10 [00:54<00:00,  5.48s/it]\n"
     ]
    },
    {
     "name": "stdout",
     "output_type": "stream",
     "text": [
      "Epoch: 10, Train Loss: 5.441, Valid Loss: 5.348, Train Perplexity: 230.698, Valid Perplexity: 210.123\n",
      "Test Loss: 5.272, Test Perplexity: 194.731\n"
     ]
    }
   ],
   "source": [
    "[train_perplexities, valid_perplexities] = trainer.train_model(model, train_data, valid_data)\n",
    "test_loss, test_perplexity = trainer.evaluate(model, test_data)\n",
    "print(f'Test Loss: {test_loss:.3f}, Test Perplexity: {test_perplexity:.3f}')"
   ]
  },
  {
   "cell_type": "code",
   "execution_count": 14,
   "metadata": {},
   "outputs": [
    {
     "data": {
      "image/png": "[encoded data removed]",
      "text/plain": [
       "<Figure size 1000x500 with 1 Axes>"
      ]
     },
     "metadata": {},
     "output_type": "display_data"
    }
   ],
   "source": [
    "import matplotlib.pyplot as plt\n",
    "\n",
    "def plot_perplexities(train_perplexities, valid_perplexities, model_type, test_perplexity):\n",
    "    epochs = range(1, len(train_perplexities) + 1)\n",
    "    plt.figure(figsize=(10, 5))\n",
    "    plt.plot(epochs, train_perplexities, label='Train Perplexity')\n",
    "    plt.plot(epochs, valid_perplexities, label='Validation Perplexity')\n",
    "    plt.xlabel('Epochs')\n",
    "    plt.ylabel('Perplexity')\n",
    "    plt.title(f'Model: {model_type}\\nTest Perplexity: {test_perplexity:.3f}')\n",
    "    plt.legend()\n",
    "    plt.grid(True)\n",
    "    plt.show()\n",
    "\n",
    "# Plot the perplexities\n",
    "plot_perplexities(train_perplexities, valid_perplexities, SELECTED_MODEL, test_perplexity)\n"
   ]
  },
  {
   "cell_type": "markdown",
   "metadata": {},
   "source": [
    "## Section 4: Evaluation\n",
    "\n",
    "Run these sections to evaluated the trained/loaded model."
   ]
  },
  {
   "cell_type": "code",
   "execution_count": 8,
   "metadata": {},
   "outputs": [
    {
     "name": "stdout",
     "output_type": "stream",
     "text": [
      "Test Loss: 5.268, Test Perplexity: 194.027\n"
     ]
    }
   ],
   "source": [
    "test_loss, test_perplexity = trainer.evaluate(model, test_data)\n",
    "print(f'Test Loss: {test_loss:.3f}, Test Perplexity: {test_perplexity:.3f}')"
   ]
  },
  {
   "cell_type": "markdown",
   "metadata": {},
   "source": [
    "### Sentence completion example\n",
    "\n",
    "Change here the `start_text` to test senctence completion."
   ]
  },
  {
   "cell_type": "code",
   "execution_count": 9,
   "metadata": {},
   "outputs": [],
   "source": [
    "start_text = \"The capital\""
   ]
  },
  {
   "cell_type": "code",
   "execution_count": 10,
   "metadata": {},
   "outputs": [
    {
     "name": "stdout",
     "output_type": "stream",
     "text": [
      "Start sentence: The capital\n",
      "Generated completion: the capital market is a\n"
     ]
    }
   ],
   "source": [
    "def generate_sentence(model, vocab, tokenizer, text, max_length=50):\n",
    "    model.eval()\n",
    "    tokens = tokenizer(text)\n",
    "    input = torch.tensor([vocab[token] for token in tokens if token in vocab.get_stoi()], dtype=torch.long).unsqueeze(1).to(device)\n",
    "    with torch.no_grad():\n",
    "        for _ in range(max_length):\n",
    "            output = model(input)\n",
    "            next_token = output.argmax(2)[-1, :].item()\n",
    "            next_token_str = vocab.get_itos()[next_token]\n",
    "            if next_token_str == '<eos>' or next_token_str == '<unk>':\n",
    "                break\n",
    "            input = torch.cat([input, torch.tensor([[next_token]], dtype=torch.long).to(device)], dim=0)\n",
    "    sentence = ' '.join([vocab.get_itos()[token] for token in input.squeeze().tolist()])\n",
    "    return sentence\n",
    "\n",
    "\n",
    "generated_sentence = generate_sentence(model, vocab, tokenizer, start_text)\n",
    "print(f\"Start sentence: {start_text}\")\n",
    "print(f\"Generated completion: {generated_sentence}\")\n"
   ]
  }
 ],
 "metadata": {
  "kernelspec": {
   "display_name": ".venv",
   "language": "python",
   "name": "python3"
  },
  "language_info": {
   "codemirror_mode": {
    "name": "ipython",
    "version": 3
   },
   "file_extension": ".py",
   "mimetype": "text/x-python",
   "name": "python",
   "nbconvert_exporter": "python",
   "pygments_lexer": "ipython3",
   "version": "3.8.10"
  }
 },
 "nbformat": 4,
 "nbformat_minor": 2
}
