{
 "cells": [
  {
   "cell_type": "code",
   "execution_count": 54,
   "metadata": {},
   "outputs": [],
   "source": [
    "# Import necessary libraries\n",
    "import torch\n",
    "import torch.nn as nn\n",
    "import torch.optim as optim\n",
    "import matplotlib.pyplot as plt\n",
    "from dataset import create_penn_tree_bank_dataset, tokenizer\n"
   ]
  },
  {
   "cell_type": "code",
   "execution_count": 55,
   "metadata": {},
   "outputs": [
    {
     "name": "stdout",
     "output_type": "stream",
     "text": [
      "Using device: cuda\n"
     ]
    }
   ],
   "source": [
    "# Hyper parameters\n",
    "DATA_DIR  = './data/PTB'\n",
    "BATCH_SIZE = 64\n",
    "BPTT = 20 # backpropagation through time defines sentence length\n",
    "LEARNING_RATE = 5\n",
    "MIN_LEARNING_RATE = LEARNING_RATE/10 # minimum learning rate for the scheduler\n",
    "MAX_GRAD_NORM = 2\n",
    "WEIGHT_DECAY = 1e-5\n",
    "EMBEDDING_DIM = 200\n",
    "HIDDEN_DIM = 200\n",
    "N_LAYERS = 2 # number of layers in the RNN\n",
    "DROPOUT = 0.5 # dropout rate (if used)\n",
    "MAX_EPOCHS = 50\n",
    "\n",
    "device = torch.device('cuda' if torch.cuda.is_available() else 'cpu')\n",
    "print(f\"Using device: {device}\")"
   ]
  },
  {
   "cell_type": "markdown",
   "metadata": {},
   "source": [
    "## Section 1: Load and Preprocess the Penn Tree Bank Dataset\n",
    "\n",
    "In this section, we will load the Penn Tree Bank (PTB) dataset and preprocess it by tokenizing and building a vocabulary."
   ]
  },
  {
   "cell_type": "code",
   "execution_count": 56,
   "metadata": {},
   "outputs": [],
   "source": [
    "train_data, valid_data, test_data, vocab = create_penn_tree_bank_dataset(DATA_DIR, BATCH_SIZE, device)"
   ]
  },
  {
   "cell_type": "code",
   "execution_count": 57,
   "metadata": {},
   "outputs": [
    {
     "name": "stdout",
     "output_type": "stream",
     "text": [
      "Example sentences:\n",
      "Sentence 1: <sos> aer banknote berlitz calloway centrust cluett fromstein gitano guterman hydro-quebec ipo kia memotec mlx nahb punts rake regatta rubens\n",
      "Tokens: ['<sos>', 'aer', 'banknote', 'berlitz', 'calloway', 'centrust', 'cluett', 'fromstein', 'gitano', 'guterman', 'hydro-quebec', 'ipo', 'kia', 'memotec', 'mlx', 'nahb', 'punts', 'rake', 'regatta', 'rubens']\n",
      "\n",
      "Sentence 2: the philippines and <unk> <eos> <sos> in addition the u . s . this year offered its own plan for\n",
      "Tokens: ['the', 'philippines', 'and', '<unk>', '<eos>', '<sos>', 'in', 'addition', 'the', 'u', '.', 's', '.', 'this', 'year', 'offered', 'its', 'own', 'plan', 'for']\n",
      "\n"
     ]
    }
   ],
   "source": [
    "# Plotting some example sentences and their tokenization\n",
    "def plot_example_sentences(data, vocab, tokenizer, num_sentences=2, sentence_length=20):\n",
    "    sentences = []\n",
    "    data = data[:sentence_length,:num_sentences].T.cpu().numpy()\n",
    "    for i in range(num_sentences):\n",
    "        sentence = ' '.join([vocab.get_itos()[token] for token in data[i] if vocab.get_itos()[token] not in ['<pad>'] ])\n",
    "        sentences.append(sentence)\n",
    "    for i, sentence in enumerate(sentences):\n",
    "        tokens = tokenizer(sentence)\n",
    "        print(f\"Sentence {i+1}: {sentence}\")\n",
    "        print(f\"Tokens: {tokens}\\n\")\n",
    "\n",
    "print(\"Example sentences:\")\n",
    "plot_example_sentences(train_data, vocab, tokenizer)"
   ]
  },
  {
   "cell_type": "markdown",
   "metadata": {},
   "source": [
    "## Section 2: Define the RNN Model\n",
    "\n",
    "We define our RNN model which can be either an LSTM or GRU based on the selected model type.\n"
   ]
  },
  {
   "cell_type": "code",
   "execution_count": 58,
   "metadata": {},
   "outputs": [],
   "source": [
    "AVAILABLE_MODELS = ['LSTM_with_dropout', 'LSTM_without_dropout', 'GRU_with_dropout', 'GRU_without_dropout']\n",
    "\n",
    "SELECTED_MODEL = 'LSTM_without_dropout' # 'LSTM_with_dropout' or 'LSTM_without_dropout' or 'GRU_with_dropout' or 'GRU_without_dropout'\n",
    "SELECTED_CHECKPOINT = '' # Leave empty if you want to train from scratch"
   ]
  },
  {
   "cell_type": "code",
   "execution_count": 59,
   "metadata": {},
   "outputs": [
    {
     "name": "stdout",
     "output_type": "stream",
     "text": [
      "RNNModel(\n",
      "  (embedding): Embedding(9924, 200)\n",
      "  (rnn): LSTM(200, 200, num_layers=2, dropout=0.5)\n",
      "  (fc): Linear(in_features=200, out_features=9924, bias=True)\n",
      "  (dropout): Dropout(p=0.5, inplace=False)\n",
      ")\n",
      "SGD (\n",
      "Parameter Group 0\n",
      "    dampening: 0\n",
      "    differentiable: False\n",
      "    foreach: None\n",
      "    fused: None\n",
      "    initial_lr: 5\n",
      "    lr: 5\n",
      "    maximize: False\n",
      "    momentum: 0\n",
      "    nesterov: False\n",
      "    weight_decay: 1e-05\n",
      ")\n"
     ]
    }
   ],
   "source": [
    "from models.RNN import RNNModel\n",
    "from trainer import Trainer\n",
    "\n",
    "assert SELECTED_MODEL in AVAILABLE_MODELS, f\"Selected model not available. Please select one of the following: {AVAILABLE_MODELS}\"\n",
    "input_dim = len(vocab)\n",
    "dropout = 0 if SELECTED_MODEL in ['LSTM_without_dropout', 'GRU_without_dropout'] else DROPOUT\n",
    "model_type = 'LSTM' if 'LSTM' in SELECTED_MODEL else 'GRU'\n",
    "\n",
    "model = RNNModel(input_dim, EMBEDDING_DIM, HIDDEN_DIM, N_LAYERS, device,dropout, model_type=model_type, checkpoint=SELECTED_CHECKPOINT)\n",
    "\n",
    "\n",
    "# Loss and optimizer\n",
    "criterion = nn.CrossEntropyLoss()\n",
    "criterion = criterion.to(device)\n",
    "\n",
    "optimizer = optim.SGD(model.parameters(), lr=LEARNING_RATE, weight_decay=WEIGHT_DECAY)\n",
    "scheduler = optim.lr_scheduler.CosineAnnealingLR(optimizer, T_max=MAX_EPOCHS, eta_min=MIN_LEARNING_RATE)\n",
    "\n",
    "\n",
    "trainer = Trainer(optimizer, criterion, BPTT, BATCH_SIZE, MAX_EPOCHS, SELECTED_MODEL, MAX_GRAD_NORM)\n",
    "print(model)\n",
    "print(optimizer)"
   ]
  },
  {
   "cell_type": "markdown",
   "metadata": {},
   "source": [
    "## Section 3: Training\n",
    "\n",
    "Run these sections to train the created model.\n"
   ]
  },
  {
   "cell_type": "code",
   "execution_count": 60,
   "metadata": {},
   "outputs": [
    {
     "name": "stderr",
     "output_type": "stream",
     "text": [
      "Training Progress:   0%|          | 0/50 [00:05<?, ?it/s]"
     ]
    },
    {
     "name": "stdout",
     "output_type": "stream",
     "text": [
      "Epoch: 01, Train Loss: 5.932, Valid Loss: 5.401, Train Perplexity: 376.808, Valid Perplexity: 221.713\n"
     ]
    },
    {
     "name": "stderr",
     "output_type": "stream",
     "text": [
      "Training Progress:   4%|▍         | 2/50 [00:12<04:49,  6.02s/it]"
     ]
    },
    {
     "name": "stdout",
     "output_type": "stream",
     "text": [
      "Epoch: 02, Train Loss: 5.448, Valid Loss: 5.187, Train Perplexity: 232.290, Valid Perplexity: 178.968\n"
     ]
    },
    {
     "name": "stderr",
     "output_type": "stream",
     "text": [
      "Training Progress:   6%|▌         | 3/50 [00:18<04:50,  6.17s/it]"
     ]
    },
    {
     "name": "stdout",
     "output_type": "stream",
     "text": [
      "Epoch: 03, Train Loss: 5.294, Valid Loss: 5.070, Train Perplexity: 199.102, Valid Perplexity: 159.249\n"
     ]
    },
    {
     "name": "stderr",
     "output_type": "stream",
     "text": [
      "Training Progress:   8%|▊         | 4/50 [00:24<04:49,  6.30s/it]"
     ]
    },
    {
     "name": "stdout",
     "output_type": "stream",
     "text": [
      "Epoch: 04, Train Loss: 5.200, Valid Loss: 4.995, Train Perplexity: 181.260, Valid Perplexity: 147.607\n"
     ]
    },
    {
     "name": "stderr",
     "output_type": "stream",
     "text": [
      "Training Progress:  10%|█         | 5/50 [00:31<04:49,  6.44s/it]"
     ]
    },
    {
     "name": "stdout",
     "output_type": "stream",
     "text": [
      "Epoch: 05, Train Loss: 5.132, Valid Loss: 4.942, Train Perplexity: 169.438, Valid Perplexity: 140.034\n"
     ]
    },
    {
     "name": "stderr",
     "output_type": "stream",
     "text": [
      "Training Progress:  12%|█▏        | 6/50 [00:38<04:46,  6.52s/it]"
     ]
    },
    {
     "name": "stdout",
     "output_type": "stream",
     "text": [
      "Epoch: 06, Train Loss: 5.078, Valid Loss: 4.896, Train Perplexity: 160.521, Valid Perplexity: 133.785\n"
     ]
    },
    {
     "name": "stderr",
     "output_type": "stream",
     "text": [
      "Training Progress:  14%|█▍        | 7/50 [00:44<04:42,  6.57s/it]"
     ]
    },
    {
     "name": "stdout",
     "output_type": "stream",
     "text": [
      "Epoch: 07, Train Loss: 5.035, Valid Loss: 4.862, Train Perplexity: 153.736, Valid Perplexity: 129.223\n"
     ]
    },
    {
     "name": "stderr",
     "output_type": "stream",
     "text": [
      "Training Progress:  16%|█▌        | 8/50 [00:51<04:37,  6.61s/it]"
     ]
    },
    {
     "name": "stdout",
     "output_type": "stream",
     "text": [
      "Epoch: 08, Train Loss: 4.997, Valid Loss: 4.835, Train Perplexity: 147.962, Valid Perplexity: 125.878\n"
     ]
    },
    {
     "name": "stderr",
     "output_type": "stream",
     "text": [
      "Training Progress:  18%|█▊        | 9/50 [00:58<04:31,  6.63s/it]"
     ]
    },
    {
     "name": "stdout",
     "output_type": "stream",
     "text": [
      "Epoch: 09, Train Loss: 4.963, Valid Loss: 4.802, Train Perplexity: 143.039, Valid Perplexity: 121.789\n"
     ]
    },
    {
     "name": "stderr",
     "output_type": "stream",
     "text": [
      "Training Progress:  20%|██        | 10/50 [01:05<04:25,  6.65s/it]"
     ]
    },
    {
     "name": "stdout",
     "output_type": "stream",
     "text": [
      "Epoch: 10, Train Loss: 4.934, Valid Loss: 4.788, Train Perplexity: 138.881, Valid Perplexity: 120.030\n"
     ]
    },
    {
     "name": "stderr",
     "output_type": "stream",
     "text": [
      "Training Progress:  22%|██▏       | 11/50 [01:11<04:19,  6.66s/it]"
     ]
    },
    {
     "name": "stdout",
     "output_type": "stream",
     "text": [
      "Epoch: 11, Train Loss: 4.906, Valid Loss: 4.761, Train Perplexity: 135.163, Valid Perplexity: 116.897\n"
     ]
    },
    {
     "name": "stderr",
     "output_type": "stream",
     "text": [
      "Training Progress:  24%|██▍       | 12/50 [01:18<04:13,  6.66s/it]"
     ]
    },
    {
     "name": "stdout",
     "output_type": "stream",
     "text": [
      "Epoch: 12, Train Loss: 4.882, Valid Loss: 4.749, Train Perplexity: 131.924, Valid Perplexity: 115.425\n"
     ]
    },
    {
     "name": "stderr",
     "output_type": "stream",
     "text": [
      "Training Progress:  26%|██▌       | 13/50 [01:25<04:06,  6.67s/it]"
     ]
    },
    {
     "name": "stdout",
     "output_type": "stream",
     "text": [
      "Epoch: 13, Train Loss: 4.859, Valid Loss: 4.723, Train Perplexity: 128.834, Valid Perplexity: 112.515\n"
     ]
    },
    {
     "name": "stderr",
     "output_type": "stream",
     "text": [
      "Training Progress:  28%|██▊       | 14/50 [01:31<04:00,  6.67s/it]"
     ]
    },
    {
     "name": "stdout",
     "output_type": "stream",
     "text": [
      "Epoch: 14, Train Loss: 4.837, Valid Loss: 4.711, Train Perplexity: 126.062, Valid Perplexity: 111.156\n"
     ]
    },
    {
     "name": "stderr",
     "output_type": "stream",
     "text": [
      "Training Progress:  30%|███       | 15/50 [01:38<03:53,  6.68s/it]"
     ]
    },
    {
     "name": "stdout",
     "output_type": "stream",
     "text": [
      "Epoch: 15, Train Loss: 4.817, Valid Loss: 4.691, Train Perplexity: 123.640, Valid Perplexity: 108.946\n"
     ]
    },
    {
     "name": "stderr",
     "output_type": "stream",
     "text": [
      "Training Progress:  32%|███▏      | 16/50 [01:45<03:47,  6.68s/it]"
     ]
    },
    {
     "name": "stdout",
     "output_type": "stream",
     "text": [
      "Epoch: 16, Train Loss: 4.797, Valid Loss: 4.683, Train Perplexity: 121.164, Valid Perplexity: 108.090\n"
     ]
    },
    {
     "name": "stderr",
     "output_type": "stream",
     "text": [
      "Training Progress:  34%|███▍      | 17/50 [01:51<03:40,  6.68s/it]"
     ]
    },
    {
     "name": "stdout",
     "output_type": "stream",
     "text": [
      "Epoch: 17, Train Loss: 4.779, Valid Loss: 4.676, Train Perplexity: 119.032, Valid Perplexity: 107.319\n"
     ]
    },
    {
     "name": "stderr",
     "output_type": "stream",
     "text": [
      "Training Progress:  34%|███▍      | 17/50 [01:58<03:40,  6.68s/it]"
     ]
    },
    {
     "name": "stdout",
     "output_type": "stream",
     "text": [
      "Epoch: 18, Train Loss: 4.762, Valid Loss: 4.660, Train Perplexity: 116.968, Valid Perplexity: 105.672\n"
     ]
    },
    {
     "name": "stderr",
     "output_type": "stream",
     "text": [
      "Training Progress:  38%|███▊      | 19/50 [02:05<03:29,  6.75s/it]"
     ]
    },
    {
     "name": "stdout",
     "output_type": "stream",
     "text": [
      "Epoch: 19, Train Loss: 4.746, Valid Loss: 4.646, Train Perplexity: 115.138, Valid Perplexity: 104.139\n"
     ]
    },
    {
     "name": "stderr",
     "output_type": "stream",
     "text": [
      "Training Progress:  40%|████      | 20/50 [02:12<03:22,  6.73s/it]"
     ]
    },
    {
     "name": "stdout",
     "output_type": "stream",
     "text": [
      "Epoch: 20, Train Loss: 4.730, Valid Loss: 4.639, Train Perplexity: 113.240, Valid Perplexity: 103.471\n"
     ]
    },
    {
     "name": "stderr",
     "output_type": "stream",
     "text": [
      "Training Progress:  42%|████▏     | 21/50 [02:18<03:14,  6.72s/it]"
     ]
    },
    {
     "name": "stdout",
     "output_type": "stream",
     "text": [
      "Epoch: 21, Train Loss: 4.714, Valid Loss: 4.625, Train Perplexity: 111.464, Valid Perplexity: 102.045\n"
     ]
    },
    {
     "name": "stderr",
     "output_type": "stream",
     "text": [
      "Training Progress:  44%|████▍     | 22/50 [02:25<03:07,  6.71s/it]"
     ]
    },
    {
     "name": "stdout",
     "output_type": "stream",
     "text": [
      "Epoch: 22, Train Loss: 4.699, Valid Loss: 4.621, Train Perplexity: 109.867, Valid Perplexity: 101.560\n"
     ]
    },
    {
     "name": "stderr",
     "output_type": "stream",
     "text": [
      "Training Progress:  46%|████▌     | 23/50 [02:32<03:00,  6.70s/it]"
     ]
    },
    {
     "name": "stdout",
     "output_type": "stream",
     "text": [
      "Epoch: 23, Train Loss: 4.685, Valid Loss: 4.611, Train Perplexity: 108.287, Valid Perplexity: 100.607\n"
     ]
    },
    {
     "name": "stderr",
     "output_type": "stream",
     "text": [
      "Training Progress:  48%|████▊     | 24/50 [02:38<02:54,  6.70s/it]"
     ]
    },
    {
     "name": "stdout",
     "output_type": "stream",
     "text": [
      "Epoch: 24, Train Loss: 4.671, Valid Loss: 4.598, Train Perplexity: 106.828, Valid Perplexity: 99.242\n"
     ]
    },
    {
     "name": "stderr",
     "output_type": "stream",
     "text": [
      "Training Progress:  50%|█████     | 25/50 [02:45<02:47,  6.69s/it]"
     ]
    },
    {
     "name": "stdout",
     "output_type": "stream",
     "text": [
      "Epoch: 25, Train Loss: 4.658, Valid Loss: 4.588, Train Perplexity: 105.375, Valid Perplexity: 98.300\n"
     ]
    },
    {
     "name": "stderr",
     "output_type": "stream",
     "text": [
      "Training Progress:  52%|█████▏    | 26/50 [02:52<02:40,  6.69s/it]"
     ]
    },
    {
     "name": "stdout",
     "output_type": "stream",
     "text": [
      "Epoch: 26, Train Loss: 4.644, Valid Loss: 4.579, Train Perplexity: 103.972, Valid Perplexity: 97.430\n"
     ]
    },
    {
     "name": "stderr",
     "output_type": "stream",
     "text": [
      "Training Progress:  54%|█████▍    | 27/50 [02:58<02:33,  6.69s/it]"
     ]
    },
    {
     "name": "stdout",
     "output_type": "stream",
     "text": [
      "Epoch: 27, Train Loss: 4.632, Valid Loss: 4.564, Train Perplexity: 102.742, Valid Perplexity: 95.931\n"
     ]
    },
    {
     "name": "stderr",
     "output_type": "stream",
     "text": [
      "Training Progress:  56%|█████▌    | 28/50 [03:05<02:27,  6.69s/it]"
     ]
    },
    {
     "name": "stdout",
     "output_type": "stream",
     "text": [
      "Epoch: 28, Train Loss: 4.620, Valid Loss: 4.555, Train Perplexity: 101.460, Valid Perplexity: 95.095\n"
     ]
    },
    {
     "name": "stderr",
     "output_type": "stream",
     "text": [
      "Training Progress:  58%|█████▊    | 29/50 [03:12<02:20,  6.69s/it]"
     ]
    },
    {
     "name": "stdout",
     "output_type": "stream",
     "text": [
      "Epoch: 29, Train Loss: 4.605, Valid Loss: 4.545, Train Perplexity: 99.962, Valid Perplexity: 94.127\n"
     ]
    },
    {
     "name": "stderr",
     "output_type": "stream",
     "text": [
      "Training Progress:  60%|██████    | 30/50 [03:19<02:13,  6.69s/it]"
     ]
    },
    {
     "name": "stdout",
     "output_type": "stream",
     "text": [
      "Epoch: 30, Train Loss: 4.593, Valid Loss: 4.535, Train Perplexity: 98.765, Valid Perplexity: 93.207\n"
     ]
    },
    {
     "name": "stderr",
     "output_type": "stream",
     "text": [
      "Training Progress:  62%|██████▏   | 31/50 [03:25<02:07,  6.69s/it]"
     ]
    },
    {
     "name": "stdout",
     "output_type": "stream",
     "text": [
      "Epoch: 31, Train Loss: 4.582, Valid Loss: 4.532, Train Perplexity: 97.700, Valid Perplexity: 92.917\n"
     ]
    },
    {
     "name": "stderr",
     "output_type": "stream",
     "text": [
      "Training Progress:  64%|██████▍   | 32/50 [03:32<02:00,  6.69s/it]"
     ]
    },
    {
     "name": "stdout",
     "output_type": "stream",
     "text": [
      "Epoch: 32, Train Loss: 4.571, Valid Loss: 4.522, Train Perplexity: 96.654, Valid Perplexity: 92.062\n"
     ]
    },
    {
     "name": "stderr",
     "output_type": "stream",
     "text": [
      "Training Progress:  66%|██████▌   | 33/50 [03:39<01:53,  6.67s/it]"
     ]
    },
    {
     "name": "stdout",
     "output_type": "stream",
     "text": [
      "Epoch: 33, Train Loss: 4.560, Valid Loss: 4.518, Train Perplexity: 95.548, Valid Perplexity: 91.610\n"
     ]
    },
    {
     "name": "stderr",
     "output_type": "stream",
     "text": [
      "Training Progress:  68%|██████▊   | 34/50 [03:45<01:46,  6.68s/it]"
     ]
    },
    {
     "name": "stdout",
     "output_type": "stream",
     "text": [
      "Epoch: 34, Train Loss: 4.548, Valid Loss: 4.506, Train Perplexity: 94.451, Valid Perplexity: 90.553\n"
     ]
    },
    {
     "name": "stderr",
     "output_type": "stream",
     "text": [
      "Training Progress:  70%|███████   | 35/50 [03:52<01:40,  6.68s/it]"
     ]
    },
    {
     "name": "stdout",
     "output_type": "stream",
     "text": [
      "Epoch: 35, Train Loss: 4.538, Valid Loss: 4.493, Train Perplexity: 93.546, Valid Perplexity: 89.404\n"
     ]
    },
    {
     "name": "stderr",
     "output_type": "stream",
     "text": [
      "Training Progress:  72%|███████▏  | 36/50 [03:58<01:32,  6.63s/it]"
     ]
    },
    {
     "name": "stdout",
     "output_type": "stream",
     "text": [
      "Epoch: 36, Train Loss: 4.527, Valid Loss: 4.497, Train Perplexity: 92.521, Valid Perplexity: 89.715\n"
     ]
    },
    {
     "name": "stderr",
     "output_type": "stream",
     "text": [
      "Training Progress:  74%|███████▍  | 37/50 [04:05<01:26,  6.65s/it]"
     ]
    },
    {
     "name": "stdout",
     "output_type": "stream",
     "text": [
      "Epoch: 37, Train Loss: 4.516, Valid Loss: 4.486, Train Perplexity: 91.503, Valid Perplexity: 88.788\n"
     ]
    },
    {
     "name": "stderr",
     "output_type": "stream",
     "text": [
      "Training Progress:  76%|███████▌  | 38/50 [04:12<01:19,  6.66s/it]"
     ]
    },
    {
     "name": "stdout",
     "output_type": "stream",
     "text": [
      "Epoch: 38, Train Loss: 4.507, Valid Loss: 4.479, Train Perplexity: 90.667, Valid Perplexity: 88.159\n"
     ]
    },
    {
     "name": "stderr",
     "output_type": "stream",
     "text": [
      "Training Progress:  78%|███████▊  | 39/50 [04:19<01:13,  6.67s/it]"
     ]
    },
    {
     "name": "stdout",
     "output_type": "stream",
     "text": [
      "Epoch: 39, Train Loss: 4.497, Valid Loss: 4.474, Train Perplexity: 89.791, Valid Perplexity: 87.739\n"
     ]
    },
    {
     "name": "stderr",
     "output_type": "stream",
     "text": [
      "Training Progress:  80%|████████  | 40/50 [04:25<01:06,  6.67s/it]"
     ]
    },
    {
     "name": "stdout",
     "output_type": "stream",
     "text": [
      "Epoch: 40, Train Loss: 4.487, Valid Loss: 4.461, Train Perplexity: 88.835, Valid Perplexity: 86.572\n"
     ]
    },
    {
     "name": "stderr",
     "output_type": "stream",
     "text": [
      "Training Progress:  82%|████████▏ | 41/50 [04:32<01:00,  6.68s/it]"
     ]
    },
    {
     "name": "stdout",
     "output_type": "stream",
     "text": [
      "Epoch: 41, Train Loss: 4.478, Valid Loss: 4.450, Train Perplexity: 88.033, Valid Perplexity: 85.667\n"
     ]
    },
    {
     "name": "stderr",
     "output_type": "stream",
     "text": [
      "Training Progress:  84%|████████▍ | 42/50 [04:38<00:53,  6.63s/it]"
     ]
    },
    {
     "name": "stdout",
     "output_type": "stream",
     "text": [
      "Epoch: 42, Train Loss: 4.469, Valid Loss: 4.451, Train Perplexity: 87.291, Valid Perplexity: 85.712\n"
     ]
    },
    {
     "name": "stderr",
     "output_type": "stream",
     "text": [
      "Training Progress:  84%|████████▍ | 42/50 [04:45<00:53,  6.63s/it]"
     ]
    },
    {
     "name": "stdout",
     "output_type": "stream",
     "text": [
      "Epoch: 43, Train Loss: 4.460, Valid Loss: 4.434, Train Perplexity: 86.500, Valid Perplexity: 84.284\n"
     ]
    },
    {
     "name": "stderr",
     "output_type": "stream",
     "text": [
      "Training Progress:  88%|████████▊ | 44/50 [04:53<00:41,  6.92s/it]"
     ]
    },
    {
     "name": "stdout",
     "output_type": "stream",
     "text": [
      "Epoch: 44, Train Loss: 4.452, Valid Loss: 4.429, Train Perplexity: 85.773, Valid Perplexity: 83.809\n"
     ]
    },
    {
     "name": "stderr",
     "output_type": "stream",
     "text": [
      "Training Progress:  90%|█████████ | 45/50 [05:00<00:34,  6.85s/it]"
     ]
    },
    {
     "name": "stdout",
     "output_type": "stream",
     "text": [
      "Epoch: 45, Train Loss: 4.443, Valid Loss: 4.427, Train Perplexity: 85.006, Valid Perplexity: 83.659\n"
     ]
    },
    {
     "name": "stderr",
     "output_type": "stream",
     "text": [
      "Training Progress:  92%|█████████▏| 46/50 [05:06<00:27,  6.80s/it]"
     ]
    },
    {
     "name": "stdout",
     "output_type": "stream",
     "text": [
      "Epoch: 46, Train Loss: 4.434, Valid Loss: 4.424, Train Perplexity: 84.250, Valid Perplexity: 83.445\n"
     ]
    },
    {
     "name": "stderr",
     "output_type": "stream",
     "text": [
      "Training Progress:  94%|█████████▍| 47/50 [05:13<00:20,  6.77s/it]"
     ]
    },
    {
     "name": "stdout",
     "output_type": "stream",
     "text": [
      "Epoch: 47, Train Loss: 4.427, Valid Loss: 4.412, Train Perplexity: 83.714, Valid Perplexity: 82.436\n"
     ]
    },
    {
     "name": "stderr",
     "output_type": "stream",
     "text": [
      "Training Progress:  96%|█████████▌| 48/50 [05:20<00:13,  6.68s/it]"
     ]
    },
    {
     "name": "stdout",
     "output_type": "stream",
     "text": [
      "Epoch: 48, Train Loss: 4.419, Valid Loss: 4.405, Train Perplexity: 82.998, Valid Perplexity: 81.868\n"
     ]
    },
    {
     "name": "stderr",
     "output_type": "stream",
     "text": [
      "Training Progress:  98%|█████████▊| 49/50 [05:26<00:06,  6.68s/it]"
     ]
    },
    {
     "name": "stdout",
     "output_type": "stream",
     "text": [
      "Epoch: 49, Train Loss: 4.411, Valid Loss: 4.403, Train Perplexity: 82.376, Valid Perplexity: 81.713\n"
     ]
    },
    {
     "name": "stderr",
     "output_type": "stream",
     "text": [
      "Training Progress: 100%|██████████| 50/50 [05:33<00:00,  6.67s/it]\n"
     ]
    },
    {
     "name": "stdout",
     "output_type": "stream",
     "text": [
      "Epoch: 50, Train Loss: 4.403, Valid Loss: 4.395, Train Perplexity: 81.711, Valid Perplexity: 81.020\n",
      "Test Loss: 4.357, Test Perplexity: 78.050\n"
     ]
    }
   ],
   "source": [
    "[train_perplexities, valid_perplexities] = trainer.train_model(model, train_data, valid_data)\n",
    "test_loss, test_perplexity = trainer.evaluate(model, test_data)\n",
    "print(f'Test Loss: {test_loss:.3f}, Test Perplexity: {test_perplexity:.3f}')"
   ]
  },
  {
   "cell_type": "code",
   "execution_count": 61,
   "metadata": {},
   "outputs": [
    {
     "data": {
      "image/png": "[encoded data removed]",
      "text/plain": [
       "<Figure size 1000x500 with 1 Axes>"
      ]
     },
     "metadata": {},
     "output_type": "display_data"
    }
   ],
   "source": [
    "import matplotlib.pyplot as plt\n",
    "\n",
    "def plot_perplexities(train_perplexities, valid_perplexities, model_type, test_perplexity):\n",
    "    epochs = range(1, len(train_perplexities) + 1)\n",
    "    plt.figure(figsize=(10, 5))\n",
    "    plt.plot(epochs, train_perplexities, label='Train Perplexity')\n",
    "    plt.plot(epochs, valid_perplexities, label='Validation Perplexity')\n",
    "    plt.xlabel('Epochs')\n",
    "    plt.ylabel('Perplexity')\n",
    "    plt.title(f'Model: {model_type}\\nTest Perplexity: {test_perplexity:.3f}')\n",
    "    plt.legend()\n",
    "    plt.grid(True)\n",
    "    plt.show()\n",
    "\n",
    "# Plot the perplexities\n",
    "plot_perplexities(train_perplexities, valid_perplexities, SELECTED_MODEL, test_perplexity)\n"
   ]
  },
  {
   "cell_type": "markdown",
   "metadata": {},
   "source": [
    "## Section 4: Evaluation\n",
    "\n",
    "Run these sections to evaluated the trained/loaded model."
   ]
  },
  {
   "cell_type": "code",
   "execution_count": 62,
   "metadata": {},
   "outputs": [
    {
     "name": "stdout",
     "output_type": "stream",
     "text": [
      "Test Loss: 4.357, Test Perplexity: 78.050\n"
     ]
    }
   ],
   "source": [
    "test_loss, test_perplexity = trainer.evaluate(model, test_data)\n",
    "print(f'Test Loss: {test_loss:.3f}, Test Perplexity: {test_perplexity:.3f}')"
   ]
  },
  {
   "cell_type": "markdown",
   "metadata": {},
   "source": [
    "### Sentence completion example\n",
    "\n",
    "Change here the `start_text` to test senctence completion."
   ]
  },
  {
   "cell_type": "code",
   "execution_count": 63,
   "metadata": {},
   "outputs": [],
   "source": [
    "start_text = \"The capital\""
   ]
  },
  {
   "cell_type": "code",
   "execution_count": 64,
   "metadata": {},
   "outputs": [
    {
     "name": "stdout",
     "output_type": "stream",
     "text": [
      "Start sentence: The capital\n",
      "Generated completion: the capital market is\n"
     ]
    }
   ],
   "source": [
    "def generate_sentence(model, vocab, tokenizer, text, max_length=50):\n",
    "    model.eval()\n",
    "    tokens = tokenizer('<sos> '+ text)\n",
    "    input = torch.tensor([vocab[token] for token in tokens if token in vocab.get_stoi()], dtype=torch.long).unsqueeze(1).to(device)\n",
    "    with torch.no_grad():\n",
    "        for _ in range(max_length):\n",
    "            output, _ = model(input)\n",
    "            next_token = output.argmax(2)[-1, :].item()\n",
    "            next_token_str = vocab.get_itos()[next_token]\n",
    "            if next_token_str == '<eos>' or next_token_str == '<unk>':\n",
    "                break\n",
    "            input = torch.cat([input, torch.tensor([[next_token]], dtype=torch.long).to(device)], dim=0)\n",
    "    sentence = ' '.join([vocab.get_itos()[token] for token in input[1:].squeeze().tolist()])\n",
    "    return sentence\n",
    "\n",
    "\n",
    "generated_sentence = generate_sentence(model, vocab, tokenizer, start_text)\n",
    "print(f\"Start sentence: {start_text}\")\n",
    "print(f\"Generated completion: {generated_sentence}\")\n"
   ]
  }
 ],
 "metadata": {
  "kernelspec": {
   "display_name": ".venv",
   "language": "python",
   "name": "python3"
  },
  "language_info": {
   "codemirror_mode": {
    "name": "ipython",
    "version": 3
   },
   "file_extension": ".py",
   "mimetype": "text/x-python",
   "name": "python",
   "nbconvert_exporter": "python",
   "pygments_lexer": "ipython3",
   "version": "3.8.10"
  }
 },
 "nbformat": 4,
 "nbformat_minor": 2
}
